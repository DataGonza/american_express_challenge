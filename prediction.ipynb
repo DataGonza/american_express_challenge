{
 "cells": [
  {
   "cell_type": "markdown",
   "id": "fd07d3bf-20a5-4def-965a-ecc633fc939b",
   "metadata": {},
   "source": [
    "# Preparating Data"
   ]
  },
  {
   "cell_type": "code",
   "execution_count": 1,
   "id": "5eaf783d-eb9e-4065-9e31-db4d43f2acb3",
   "metadata": {},
   "outputs": [],
   "source": [
    "import pandas as pd\n",
    "import numpy as np\n",
    "import xgboost as xgb\n",
    "import matplotlib.pyplot as plt\n",
    "import json\n",
    "\n",
    "from sklearn.preprocessing import StandardScaler\n",
    "from sklearn.decomposition import PCA\n",
    "from sklearn.model_selection import train_test_split\n",
    "from sklearn.dummy import DummyClassifier\n",
    "from sklearn.ensemble import GradientBoostingClassifier\n",
    "from sklearn.svm import SVC\n",
    "from sklearn.linear_model import LogisticRegression\n",
    "from sklearn.manifold import TSNE\n",
    "from sklearn.metrics import accuracy_score, precision_score, recall_score, f1_score\n",
    "from multiprocessing import  Pool\n",
    "\n",
    "%matplotlib inline"
   ]
  },
  {
   "cell_type": "code",
   "execution_count": 2,
   "id": "cf7f96ea-1a56-49bd-9a8a-88cedfbd7540",
   "metadata": {},
   "outputs": [],
   "source": [
    "train_data = pd.read_parquet('C:/Users/DavidG/Documents/american_express_data/fillna_data_0.parquet')\n",
    "for i in range(1, 4):\n",
    "    train_data = pd.concat([train_data, pd.read_parquet('C:/Users/DavidG/Documents/american_express_data/fillna_data_{}.parquet'.format(i))])\n",
    "train_data.reset_index(drop = True, inplace = True)"
   ]
  },
  {
   "cell_type": "code",
   "execution_count": 3,
   "id": "d311359b-e4ce-46f7-aca6-001127f78d34",
   "metadata": {},
   "outputs": [],
   "source": [
    "# Section only for select columns too empty\n",
    "#columns = []\n",
    "#nan_values = []\n",
    "#for column in train_data_sample.columns:\n",
    "#    try:\n",
    "#        nan_value = np.sum(np.isnan(train_data_sample[column]))\n",
    "#        if nan_value != 0:\n",
    "#            columns.append(column)\n",
    "#            nan_values.append(nan_value)\n",
    "#    except:\n",
    "#        ;\n",
    "#columns_with_nan = pd.DataFrame(data = nan_values, index = columns)\n",
    "#columns_to_drop = columns_with_nan[columns_with_nan[0] > len(train_data_sample)*frac_nan_values].index.values\n",
    "#train_data_sample.drop(labels = columns_to_drop, axis = 1, inplace = True)\n",
    "def amex_metric(y_true: pd.DataFrame, y_pred: pd.DataFrame) -> float:\n",
    "\n",
    "    def top_four_percent_captured(y_true: pd.DataFrame, y_pred: pd.DataFrame) -> float:\n",
    "        df = (pd.concat([y_true, y_pred], axis='columns')\n",
    "              .sort_values('prediction', ascending=False))\n",
    "        df['weight'] = df['target'].apply(lambda x: 20 if x==0 else 1)\n",
    "        four_pct_cutoff = int(0.04 * df['weight'].sum())\n",
    "        df['weight_cumsum'] = df['weight'].cumsum()\n",
    "        df_cutoff = df.loc[df['weight_cumsum'] <= four_pct_cutoff]\n",
    "        return (df_cutoff['target'] == 1).sum() / (df['target'] == 1).sum()\n",
    "        \n",
    "    def weighted_gini(y_true: pd.DataFrame, y_pred: pd.DataFrame) -> float:\n",
    "        df = (pd.concat([y_true, y_pred], axis='columns')\n",
    "              .sort_values('prediction', ascending=False))\n",
    "        df['weight'] = df['target'].apply(lambda x: 20 if x==0 else 1)\n",
    "        df['random'] = (df['weight'] / df['weight'].sum()).cumsum()\n",
    "        total_pos = (df['target'] * df['weight']).sum()\n",
    "        df['cum_pos_found'] = (df['target'] * df['weight']).cumsum()\n",
    "        df['lorentz'] = df['cum_pos_found'] / total_pos\n",
    "        df['gini'] = (df['lorentz'] - df['random']) * df['weight']\n",
    "        return df['gini'].sum()\n",
    "\n",
    "    def normalized_weighted_gini(y_true: pd.DataFrame, y_pred: pd.DataFrame) -> float:\n",
    "        y_true_pred = y_true.rename(columns={'target': 'prediction'})\n",
    "        return weighted_gini(y_true, y_pred) / weighted_gini(y_true, y_true_pred)\n",
    "\n",
    "    g = normalized_weighted_gini(y_true, y_pred)\n",
    "    d = top_four_percent_captured(y_true, y_pred)\n",
    "    print(\"g value is {} and d value is {}\".format(g, d))\n",
    "\n",
    "    return 0.5 * (g + d)"
   ]
  },
  {
   "cell_type": "code",
   "execution_count": 4,
   "id": "ac69c42c-ff07-4d0e-81be-376876f788f1",
   "metadata": {},
   "outputs": [],
   "source": [
    "train_data.replace([np.inf, -np.inf], 0, inplace=True)\n",
    "X_train, X_test, y_train, y_test = train_test_split(train_data.drop(['customer_ID', 'target'], axis = 1), train_data['target'], random_state=0)\n",
    "del train_data\n",
    "sc = StandardScaler() \n",
    "X_train = sc.fit_transform(X_train)\n",
    "X_test = sc.transform(X_test) \n",
    "#pca = PCA(n_components = 60).fit(x_train_2)\n",
    "#x_train_2 = pca.transform(x_train_2)\n",
    "#x_test_2 = pca.transform(x_test_2)\n",
    "#mds = MDS(n_components = 20)\n",
    "#x_train_2 = mds.fit_transform(x_train_2)\n",
    "#x_test_2 = mds.transform(x_test_2)\n",
    "\n",
    "#tsne = TSNE(random_state = 0)\n",
    "\n",
    "#x_train_2 = tsne.fit_transform(x_train_2)\n",
    "#x_test_2 = tsne.transform(x_test_2)"
   ]
  },
  {
   "cell_type": "code",
   "execution_count": 5,
   "id": "d3909504-a9bc-46ef-9ce1-ac114b33f4c1",
   "metadata": {},
   "outputs": [
    {
     "data": {
      "text/html": [
       "<style>#sk-container-id-1 {color: black;background-color: white;}#sk-container-id-1 pre{padding: 0;}#sk-container-id-1 div.sk-toggleable {background-color: white;}#sk-container-id-1 label.sk-toggleable__label {cursor: pointer;display: block;width: 100%;margin-bottom: 0;padding: 0.3em;box-sizing: border-box;text-align: center;}#sk-container-id-1 label.sk-toggleable__label-arrow:before {content: \"▸\";float: left;margin-right: 0.25em;color: #696969;}#sk-container-id-1 label.sk-toggleable__label-arrow:hover:before {color: black;}#sk-container-id-1 div.sk-estimator:hover label.sk-toggleable__label-arrow:before {color: black;}#sk-container-id-1 div.sk-toggleable__content {max-height: 0;max-width: 0;overflow: hidden;text-align: left;background-color: #f0f8ff;}#sk-container-id-1 div.sk-toggleable__content pre {margin: 0.2em;color: black;border-radius: 0.25em;background-color: #f0f8ff;}#sk-container-id-1 input.sk-toggleable__control:checked~div.sk-toggleable__content {max-height: 200px;max-width: 100%;overflow: auto;}#sk-container-id-1 input.sk-toggleable__control:checked~label.sk-toggleable__label-arrow:before {content: \"▾\";}#sk-container-id-1 div.sk-estimator input.sk-toggleable__control:checked~label.sk-toggleable__label {background-color: #d4ebff;}#sk-container-id-1 div.sk-label input.sk-toggleable__control:checked~label.sk-toggleable__label {background-color: #d4ebff;}#sk-container-id-1 input.sk-hidden--visually {border: 0;clip: rect(1px 1px 1px 1px);clip: rect(1px, 1px, 1px, 1px);height: 1px;margin: -1px;overflow: hidden;padding: 0;position: absolute;width: 1px;}#sk-container-id-1 div.sk-estimator {font-family: monospace;background-color: #f0f8ff;border: 1px dotted black;border-radius: 0.25em;box-sizing: border-box;margin-bottom: 0.5em;}#sk-container-id-1 div.sk-estimator:hover {background-color: #d4ebff;}#sk-container-id-1 div.sk-parallel-item::after {content: \"\";width: 100%;border-bottom: 1px solid gray;flex-grow: 1;}#sk-container-id-1 div.sk-label:hover label.sk-toggleable__label {background-color: #d4ebff;}#sk-container-id-1 div.sk-serial::before {content: \"\";position: absolute;border-left: 1px solid gray;box-sizing: border-box;top: 0;bottom: 0;left: 50%;z-index: 0;}#sk-container-id-1 div.sk-serial {display: flex;flex-direction: column;align-items: center;background-color: white;padding-right: 0.2em;padding-left: 0.2em;position: relative;}#sk-container-id-1 div.sk-item {position: relative;z-index: 1;}#sk-container-id-1 div.sk-parallel {display: flex;align-items: stretch;justify-content: center;background-color: white;position: relative;}#sk-container-id-1 div.sk-item::before, #sk-container-id-1 div.sk-parallel-item::before {content: \"\";position: absolute;border-left: 1px solid gray;box-sizing: border-box;top: 0;bottom: 0;left: 50%;z-index: -1;}#sk-container-id-1 div.sk-parallel-item {display: flex;flex-direction: column;z-index: 1;position: relative;background-color: white;}#sk-container-id-1 div.sk-parallel-item:first-child::after {align-self: flex-end;width: 50%;}#sk-container-id-1 div.sk-parallel-item:last-child::after {align-self: flex-start;width: 50%;}#sk-container-id-1 div.sk-parallel-item:only-child::after {width: 0;}#sk-container-id-1 div.sk-dashed-wrapped {border: 1px dashed gray;margin: 0 0.4em 0.5em 0.4em;box-sizing: border-box;padding-bottom: 0.4em;background-color: white;}#sk-container-id-1 div.sk-label label {font-family: monospace;font-weight: bold;display: inline-block;line-height: 1.2em;}#sk-container-id-1 div.sk-label-container {text-align: center;}#sk-container-id-1 div.sk-container {/* jupyter's `normalize.less` sets `[hidden] { display: none; }` but bootstrap.min.css set `[hidden] { display: none !important; }` so we also need the `!important` here to be able to override the default hidden behavior on the sphinx rendered scikit-learn.org. See: https://github.com/scikit-learn/scikit-learn/issues/21755 */display: inline-block !important;position: relative;}#sk-container-id-1 div.sk-text-repr-fallback {display: none;}</style><div id=\"sk-container-id-1\" class=\"sk-top-container\"><div class=\"sk-text-repr-fallback\"><pre>XGBClassifier(base_score=0.5, booster=&#x27;gbtree&#x27;, callbacks=None,\n",
       "              colsample_bylevel=1, colsample_bynode=1, colsample_bytree=1,\n",
       "              early_stopping_rounds=None, enable_categorical=False,\n",
       "              eval_metric=&#x27;auc&#x27;, gamma=0.1, gpu_id=-1, grow_policy=&#x27;depthwise&#x27;,\n",
       "              importance_type=None, interaction_constraints=&#x27;&#x27;,\n",
       "              learning_rate=0.2, max_bin=256, max_cat_to_onehot=4,\n",
       "              max_delta_step=0, max_depth=3, max_leaves=0, min_child_weight=1,\n",
       "              missing=nan, monotone_constraints=&#x27;()&#x27;, n_estimators=100,\n",
       "              n_jobs=0, num_parallel_tree=1, predictor=&#x27;auto&#x27;, random_state=42,\n",
       "              reg_alpha=0, reg_lambda=1, ...)</pre><b>In a Jupyter environment, please rerun this cell to show the HTML representation or trust the notebook. <br />On GitHub, the HTML representation is unable to render, please try loading this page with nbviewer.org.</b></div><div class=\"sk-container\" hidden><div class=\"sk-item\"><div class=\"sk-estimator sk-toggleable\"><input class=\"sk-toggleable__control sk-hidden--visually\" id=\"sk-estimator-id-1\" type=\"checkbox\" checked><label for=\"sk-estimator-id-1\" class=\"sk-toggleable__label sk-toggleable__label-arrow\">XGBClassifier</label><div class=\"sk-toggleable__content\"><pre>XGBClassifier(base_score=0.5, booster=&#x27;gbtree&#x27;, callbacks=None,\n",
       "              colsample_bylevel=1, colsample_bynode=1, colsample_bytree=1,\n",
       "              early_stopping_rounds=None, enable_categorical=False,\n",
       "              eval_metric=&#x27;auc&#x27;, gamma=0.1, gpu_id=-1, grow_policy=&#x27;depthwise&#x27;,\n",
       "              importance_type=None, interaction_constraints=&#x27;&#x27;,\n",
       "              learning_rate=0.2, max_bin=256, max_cat_to_onehot=4,\n",
       "              max_delta_step=0, max_depth=3, max_leaves=0, min_child_weight=1,\n",
       "              missing=nan, monotone_constraints=&#x27;()&#x27;, n_estimators=100,\n",
       "              n_jobs=0, num_parallel_tree=1, predictor=&#x27;auto&#x27;, random_state=42,\n",
       "              reg_alpha=0, reg_lambda=1, ...)</pre></div></div></div></div></div>"
      ],
      "text/plain": [
       "XGBClassifier(base_score=0.5, booster='gbtree', callbacks=None,\n",
       "              colsample_bylevel=1, colsample_bynode=1, colsample_bytree=1,\n",
       "              early_stopping_rounds=None, enable_categorical=False,\n",
       "              eval_metric='auc', gamma=0.1, gpu_id=-1, grow_policy='depthwise',\n",
       "              importance_type=None, interaction_constraints='',\n",
       "              learning_rate=0.2, max_bin=256, max_cat_to_onehot=4,\n",
       "              max_delta_step=0, max_depth=3, max_leaves=0, min_child_weight=1,\n",
       "              missing=nan, monotone_constraints='()', n_estimators=100,\n",
       "              n_jobs=0, num_parallel_tree=1, predictor='auto', random_state=42,\n",
       "              reg_alpha=0, reg_lambda=1, ...)"
      ]
     },
     "execution_count": 5,
     "metadata": {},
     "output_type": "execute_result"
    }
   ],
   "source": [
    "xgb_clf = xgb.XGBClassifier(objective = 'binary:logistic', seed = 42, \n",
    "                           eval_metric = 'auc', max_depth = 3, learning_rate = 0.2, gamma = 0.1)\n",
    "xgb_clf.fit(X_train, y_train)"
   ]
  },
  {
   "cell_type": "code",
   "execution_count": 6,
   "id": "ad37db95-9fc7-45c2-9bbc-7bf5f50b49ea",
   "metadata": {},
   "outputs": [
    {
     "name": "stdout",
     "output_type": "stream",
     "text": [
      "Accuracy: 0.89\n",
      "Precision: 0.80\n",
      "Recall: 0.79\n",
      "F1: 0.79\n",
      "g value is 0.9071184422510328 and d value is 0.6105746663984443\n",
      "0.7588465543247385\n"
     ]
    }
   ],
   "source": [
    "y_predict = xgb_clf.predict(X_test)\n",
    "y_predict_proba = xgb_clf.predict_proba(X_test)[:,1]\n",
    "print('Accuracy: {:.2f}'.format(accuracy_score(y_test, y_predict)))\n",
    "print('Precision: {:.2f}'.format(precision_score(y_test, y_predict)))\n",
    "print('Recall: {:.2f}'.format(recall_score(y_test, y_predict)))\n",
    "print('F1: {:.2f}'.format(f1_score(y_test, y_predict)))\n",
    "print(amex_metric(pd.DataFrame(y_test), pd.DataFrame(y_predict_proba, index = y_test.index, columns = ['prediction'])))"
   ]
  },
  {
   "cell_type": "code",
   "execution_count": 8,
   "id": "dae93901-81f8-460b-bd48-d2c2dec43b8d",
   "metadata": {},
   "outputs": [
    {
     "data": {
      "text/plain": [
       "<AxesSubplot:title={'center':'Feature importance'}, xlabel='F score', ylabel='Features'>"
      ]
     },
     "execution_count": 8,
     "metadata": {},
     "output_type": "execute_result"
    },
    {
     "data": {
      "image/png": "[encoded data removed]",
      "text/plain": [
       "<Figure size 432x288 with 1 Axes>"
      ]
     },
     "metadata": {
      "needs_background": "light"
     },
     "output_type": "display_data"
    }
   ],
   "source": [
    "#plt.barh(xgb_clf.feature_names, xgb_clf.feature_importances_)\n",
    "from xgboost import plot_importance\n",
    "plot_importance(xgb_clf, max_num_features =30)"
   ]
  },
  {
   "cell_type": "code",
   "execution_count": 10,
   "id": "4e91c10e-6c1c-4d4e-a07c-5cba2bb5322e",
   "metadata": {},
   "outputs": [],
   "source": [
    "logreg = LogisticRegression(max_iter = 1000, C = 0.05, class_weight = [1, 95]).fit(X_train, y_train)"
   ]
  },
  {
   "cell_type": "code",
   "execution_count": 11,
   "id": "11d11fb2-fd5b-416d-b3a1-e1fc15a95998",
   "metadata": {},
   "outputs": [
    {
     "name": "stdout",
     "output_type": "stream",
     "text": [
      "Accuracy: 0.89\n",
      "Precision: 0.81\n",
      "Recall: 0.77\n",
      "F1: 0.79\n",
      "g value is 0.9049570183653801 and d value is 0.6058472473680682\n",
      "0.7554021328667242\n"
     ]
    }
   ],
   "source": [
    "y_predict = logreg.predict(X_test)\n",
    "y_predict_proba = logreg.predict_proba(X_test)[:,1]\n",
    "print('Accuracy: {:.2f}'.format(accuracy_score(y_test, y_predict)))\n",
    "print('Precision: {:.2f}'.format(precision_score(y_test, y_predict)))\n",
    "print('Recall: {:.2f}'.format(recall_score(y_test, y_predict)))\n",
    "print('F1: {:.2f}'.format(f1_score(y_test, y_predict)))\n",
    "print(amex_metric(pd.DataFrame(y_test), pd.DataFrame(y_predict_proba, index = y_test.index, columns = ['prediction'])))"
   ]
  },
  {
   "cell_type": "code",
   "execution_count": 26,
   "id": "6b2113fa-fcf1-44b2-a2c7-f3f20a86d9e4",
   "metadata": {},
   "outputs": [],
   "source": [
    "test_data = pd.read_parquet('C:/Users/DavidG/Documents/american_express_data/test_fillna_data_0.parquet')\n",
    "test_data.replace([np.inf, -np.inf], 0, inplace=True)\n",
    "index = test_data.index\n",
    "test_data = sc.transform(test_data)\n",
    "y_predict_proba = xgb_clf.predict_proba(test_data)[:,1]\n",
    "prediction = pd.DataFrame(data = y_predict_proba, index = index, columns = ['prediction'])"
   ]
  },
  {
   "cell_type": "code",
   "execution_count": 28,
   "id": "a0778592-9d49-4562-842d-105c5440a1ba",
   "metadata": {},
   "outputs": [],
   "source": [
    "for i in range(1, 10):\n",
    "    test_data = pd.read_parquet('C:/Users/DavidG/Documents/american_express_data/test_fillna_data_{}.parquet'.format(i))\n",
    "    test_data.replace([np.inf, -np.inf], 0, inplace=True)\n",
    "    index = test_data.index\n",
    "    test_data = sc.transform(test_data)\n",
    "    y_predict_proba = xgb_clf.predict_proba(test_data)[:,1]\n",
    "    prediction = pd.concat([prediction, pd.DataFrame(data = y_predict_proba, index = index, columns = ['prediction'])])"
   ]
  },
  {
   "cell_type": "code",
   "execution_count": 30,
   "id": "6cf7e918-cdfe-4672-bbaf-e793a05b8091",
   "metadata": {},
   "outputs": [],
   "source": [
    "prediction.to_csv('C:/Users/DavidG/Documents/american_express_data/prediction.csv')"
   ]
  },
  {
   "cell_type": "code",
   "execution_count": null,
   "id": "b3b350fe-cbb0-46e0-bdb3-5b1e3dcf7210",
   "metadata": {},
   "outputs": [],
   "source": []
  }
 ],
 "metadata": {
  "kernelspec": {
   "display_name": "Python 3 (ipykernel)",
   "language": "python",
   "name": "python3"
  },
  "language_info": {
   "codemirror_mode": {
    "name": "ipython",
    "version": 3
   },
   "file_extension": ".py",
   "mimetype": "text/x-python",
   "name": "python",
   "nbconvert_exporter": "python",
   "pygments_lexer": "ipython3",
   "version": "3.8.5"
  }
 },
 "nbformat": 4,
 "nbformat_minor": 5
}
